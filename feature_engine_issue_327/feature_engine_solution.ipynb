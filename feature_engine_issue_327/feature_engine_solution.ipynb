{
 "cells": [
  {
   "cell_type": "code",
   "execution_count": 2,
   "id": "excessive-greek",
   "metadata": {},
   "outputs": [],
   "source": [
    "import pandas as pd\n",
    "from utils import (\n",
    "    correlated_feat_removal,\n",
    "    get_corr_mask,\n",
    "    get_corr_matix,\n",
    "    get_matrix_mask,\n",
    "    get_second_matrix,\n",
    "    make_selection,\n",
    ")"
   ]
  },
  {
   "cell_type": "markdown",
   "id": "upper-trout",
   "metadata": {},
   "source": [
    "### 1. Prepare a dataset"
   ]
  },
  {
   "cell_type": "code",
   "execution_count": 4,
   "id": "expected-chamber",
   "metadata": {},
   "outputs": [],
   "source": [
    "data = pd.DataFrame(\n",
    "    [\n",
    "        {\"a\": 1, \"b\": 2, \"c\": 3, \"d\": 2, \"e\": -1},\n",
    "        {\"a\": 10, \"b\": 20, \"c\": 30, \"d\": 18, \"e\": -9},\n",
    "        {\"a\": 20, \"b\": 40, \"c\": 10, \"d\": 38, \"e\": -18},\n",
    "        {\"a\": 19.3, \"b\": 35, \"c\": 12, \"d\": 12, \"e\": -18},\n",
    "    ]\n",
    ")"
   ]
  },
  {
   "cell_type": "code",
   "execution_count": 5,
   "id": "supposed-train",
   "metadata": {},
   "outputs": [
    {
     "data": {
      "text/html": [
       "<div>\n",
       "<style scoped>\n",
       "    .dataframe tbody tr th:only-of-type {\n",
       "        vertical-align: middle;\n",
       "    }\n",
       "\n",
       "    .dataframe tbody tr th {\n",
       "        vertical-align: top;\n",
       "    }\n",
       "\n",
       "    .dataframe thead th {\n",
       "        text-align: right;\n",
       "    }\n",
       "</style>\n",
       "<table border=\"1\" class=\"dataframe\">\n",
       "  <thead>\n",
       "    <tr style=\"text-align: right;\">\n",
       "      <th></th>\n",
       "      <th>a</th>\n",
       "      <th>b</th>\n",
       "      <th>c</th>\n",
       "      <th>d</th>\n",
       "      <th>e</th>\n",
       "    </tr>\n",
       "  </thead>\n",
       "  <tbody>\n",
       "    <tr>\n",
       "      <th>0</th>\n",
       "      <td>1.0</td>\n",
       "      <td>2</td>\n",
       "      <td>3</td>\n",
       "      <td>2</td>\n",
       "      <td>-1</td>\n",
       "    </tr>\n",
       "    <tr>\n",
       "      <th>1</th>\n",
       "      <td>10.0</td>\n",
       "      <td>20</td>\n",
       "      <td>30</td>\n",
       "      <td>18</td>\n",
       "      <td>-9</td>\n",
       "    </tr>\n",
       "    <tr>\n",
       "      <th>2</th>\n",
       "      <td>20.0</td>\n",
       "      <td>40</td>\n",
       "      <td>10</td>\n",
       "      <td>38</td>\n",
       "      <td>-18</td>\n",
       "    </tr>\n",
       "    <tr>\n",
       "      <th>3</th>\n",
       "      <td>19.3</td>\n",
       "      <td>35</td>\n",
       "      <td>12</td>\n",
       "      <td>12</td>\n",
       "      <td>-18</td>\n",
       "    </tr>\n",
       "  </tbody>\n",
       "</table>\n",
       "</div>"
      ],
      "text/plain": [
       "      a   b   c   d   e\n",
       "0   1.0   2   3   2  -1\n",
       "1  10.0  20  30  18  -9\n",
       "2  20.0  40  10  38 -18\n",
       "3  19.3  35  12  12 -18"
      ]
     },
     "execution_count": 5,
     "metadata": {},
     "output_type": "execute_result"
    }
   ],
   "source": [
    "data.head()"
   ]
  },
  {
   "cell_type": "markdown",
   "id": "endangered-repository",
   "metadata": {},
   "source": [
    "### 2. Correlated feature removal - commonly-used way\n",
    "\n",
    "The correlated features are removed following these steps:\n",
    "\n",
    "1. We use pandas `.corr()` to get a corr_matrix and then check the correlation among features.\n",
    "2. Then we check the column list one by one.\n",
    "3. For each column, we calculate the correlations between this feature and all the rest. When any of the absolute\n",
    "value of the correlation excceds the threshold, we drop that feature."
   ]
  },
  {
   "cell_type": "code",
   "execution_count": 6,
   "id": "mineral-blues",
   "metadata": {},
   "outputs": [],
   "source": [
    "corr, selected_cols = correlated_feat_removal(X=data, cols=None, corr_thresh=0.8)"
   ]
  },
  {
   "cell_type": "code",
   "execution_count": 7,
   "id": "minus-safety",
   "metadata": {},
   "outputs": [
    {
     "data": {
      "text/html": [
       "<div>\n",
       "<style scoped>\n",
       "    .dataframe tbody tr th:only-of-type {\n",
       "        vertical-align: middle;\n",
       "    }\n",
       "\n",
       "    .dataframe tbody tr th {\n",
       "        vertical-align: top;\n",
       "    }\n",
       "\n",
       "    .dataframe thead th {\n",
       "        text-align: right;\n",
       "    }\n",
       "</style>\n",
       "<table border=\"1\" class=\"dataframe\">\n",
       "  <thead>\n",
       "    <tr style=\"text-align: right;\">\n",
       "      <th></th>\n",
       "      <th>a</th>\n",
       "      <th>b</th>\n",
       "      <th>c</th>\n",
       "      <th>d</th>\n",
       "      <th>e</th>\n",
       "    </tr>\n",
       "  </thead>\n",
       "  <tbody>\n",
       "    <tr>\n",
       "      <th>a</th>\n",
       "      <td>NaN</td>\n",
       "      <td>0.995835</td>\n",
       "      <td>0.138988</td>\n",
       "      <td>0.718899</td>\n",
       "      <td>0.999417</td>\n",
       "    </tr>\n",
       "    <tr>\n",
       "      <th>b</th>\n",
       "      <td>NaN</td>\n",
       "      <td>NaN</td>\n",
       "      <td>0.156412</td>\n",
       "      <td>0.779209</td>\n",
       "      <td>0.992154</td>\n",
       "    </tr>\n",
       "    <tr>\n",
       "      <th>c</th>\n",
       "      <td>NaN</td>\n",
       "      <td>NaN</td>\n",
       "      <td>NaN</td>\n",
       "      <td>0.205310</td>\n",
       "      <td>0.129252</td>\n",
       "    </tr>\n",
       "    <tr>\n",
       "      <th>d</th>\n",
       "      <td>NaN</td>\n",
       "      <td>NaN</td>\n",
       "      <td>NaN</td>\n",
       "      <td>NaN</td>\n",
       "      <td>0.694965</td>\n",
       "    </tr>\n",
       "    <tr>\n",
       "      <th>e</th>\n",
       "      <td>NaN</td>\n",
       "      <td>NaN</td>\n",
       "      <td>NaN</td>\n",
       "      <td>NaN</td>\n",
       "      <td>NaN</td>\n",
       "    </tr>\n",
       "  </tbody>\n",
       "</table>\n",
       "</div>"
      ],
      "text/plain": [
       "    a         b         c         d         e\n",
       "a NaN  0.995835  0.138988  0.718899  0.999417\n",
       "b NaN       NaN  0.156412  0.779209  0.992154\n",
       "c NaN       NaN       NaN  0.205310  0.129252\n",
       "d NaN       NaN       NaN       NaN  0.694965\n",
       "e NaN       NaN       NaN       NaN       NaN"
      ]
     },
     "execution_count": 7,
     "metadata": {},
     "output_type": "execute_result"
    }
   ],
   "source": [
    "corr"
   ]
  },
  {
   "cell_type": "code",
   "execution_count": 8,
   "id": "imported-pierre",
   "metadata": {},
   "outputs": [
    {
     "data": {
      "text/plain": [
       "['a', 'c', 'd']"
      ]
     },
     "execution_count": 8,
     "metadata": {},
     "output_type": "execute_result"
    }
   ],
   "source": [
    "selected_cols"
   ]
  },
  {
   "cell_type": "code",
   "execution_count": 9,
   "id": "operational-samba",
   "metadata": {},
   "outputs": [],
   "source": [
    "corr, selected_cols_double_check = correlated_feat_removal(X=data, cols=list(selected_cols), corr_thresh=0.8)"
   ]
  },
  {
   "cell_type": "code",
   "execution_count": 10,
   "id": "broad-alexander",
   "metadata": {},
   "outputs": [],
   "source": [
    "assert selected_cols == selected_cols_double_check, \"The first round of correlated feature removal is not complete\""
   ]
  },
  {
   "cell_type": "markdown",
   "id": "little-ghost",
   "metadata": {},
   "source": [
    "### 3. Feature selection based on different criteria, e.g. std, missings"
   ]
  },
  {
   "cell_type": "code",
   "execution_count": 22,
   "id": "dated-attitude",
   "metadata": {},
   "outputs": [],
   "source": [
    "# Get the correlation matrix and std difference matrix\n",
    "corr = get_corr_matix(X=data)\n",
    "std = get_second_matrix(X=data, matrix_type=\"std\")\n",
    "missing = get_second_matrix(X=data, matrix_type=\"missings\")"
   ]
  },
  {
   "cell_type": "code",
   "execution_count": 23,
   "id": "demanding-session",
   "metadata": {},
   "outputs": [],
   "source": [
    "# Mask both matrices\n",
    "corr_mask = get_corr_mask(corr=corr, corr_thresh=0.8)\n",
    "std_mask = get_matrix_mask(matrix=std, threshold=0, mask_value=1)\n",
    "missing_mask = get_matrix_mask(matrix=missing, threshold=0, mask_value=1)"
   ]
  },
  {
   "cell_type": "code",
   "execution_count": 28,
   "id": "guided-child",
   "metadata": {},
   "outputs": [
    {
     "data": {
      "text/html": [
       "<div>\n",
       "<style scoped>\n",
       "    .dataframe tbody tr th:only-of-type {\n",
       "        vertical-align: middle;\n",
       "    }\n",
       "\n",
       "    .dataframe tbody tr th {\n",
       "        vertical-align: top;\n",
       "    }\n",
       "\n",
       "    .dataframe thead th {\n",
       "        text-align: right;\n",
       "    }\n",
       "</style>\n",
       "<table border=\"1\" class=\"dataframe\">\n",
       "  <thead>\n",
       "    <tr style=\"text-align: right;\">\n",
       "      <th></th>\n",
       "      <th>a</th>\n",
       "      <th>b</th>\n",
       "      <th>c</th>\n",
       "      <th>d</th>\n",
       "      <th>e</th>\n",
       "    </tr>\n",
       "  </thead>\n",
       "  <tbody>\n",
       "    <tr>\n",
       "      <th>a</th>\n",
       "      <td>NaN</td>\n",
       "      <td>0.995835</td>\n",
       "      <td>0.138988</td>\n",
       "      <td>0.718899</td>\n",
       "      <td>0.999417</td>\n",
       "    </tr>\n",
       "    <tr>\n",
       "      <th>b</th>\n",
       "      <td>NaN</td>\n",
       "      <td>NaN</td>\n",
       "      <td>0.156412</td>\n",
       "      <td>0.779209</td>\n",
       "      <td>0.992154</td>\n",
       "    </tr>\n",
       "    <tr>\n",
       "      <th>c</th>\n",
       "      <td>NaN</td>\n",
       "      <td>NaN</td>\n",
       "      <td>NaN</td>\n",
       "      <td>0.205310</td>\n",
       "      <td>0.129252</td>\n",
       "    </tr>\n",
       "    <tr>\n",
       "      <th>d</th>\n",
       "      <td>NaN</td>\n",
       "      <td>NaN</td>\n",
       "      <td>NaN</td>\n",
       "      <td>NaN</td>\n",
       "      <td>0.694965</td>\n",
       "    </tr>\n",
       "    <tr>\n",
       "      <th>e</th>\n",
       "      <td>NaN</td>\n",
       "      <td>NaN</td>\n",
       "      <td>NaN</td>\n",
       "      <td>NaN</td>\n",
       "      <td>NaN</td>\n",
       "    </tr>\n",
       "  </tbody>\n",
       "</table>\n",
       "</div>"
      ],
      "text/plain": [
       "    a         b         c         d         e\n",
       "a NaN  0.995835  0.138988  0.718899  0.999417\n",
       "b NaN       NaN  0.156412  0.779209  0.992154\n",
       "c NaN       NaN       NaN  0.205310  0.129252\n",
       "d NaN       NaN       NaN       NaN  0.694965\n",
       "e NaN       NaN       NaN       NaN       NaN"
      ]
     },
     "execution_count": 28,
     "metadata": {},
     "output_type": "execute_result"
    }
   ],
   "source": [
    "corr"
   ]
  },
  {
   "cell_type": "code",
   "execution_count": 24,
   "id": "potential-tanzania",
   "metadata": {},
   "outputs": [
    {
     "data": {
      "text/html": [
       "<div>\n",
       "<style scoped>\n",
       "    .dataframe tbody tr th:only-of-type {\n",
       "        vertical-align: middle;\n",
       "    }\n",
       "\n",
       "    .dataframe tbody tr th {\n",
       "        vertical-align: top;\n",
       "    }\n",
       "\n",
       "    .dataframe thead th {\n",
       "        text-align: right;\n",
       "    }\n",
       "</style>\n",
       "<table border=\"1\" class=\"dataframe\">\n",
       "  <thead>\n",
       "    <tr style=\"text-align: right;\">\n",
       "      <th></th>\n",
       "      <th>a</th>\n",
       "      <th>b</th>\n",
       "      <th>c</th>\n",
       "      <th>d</th>\n",
       "      <th>e</th>\n",
       "    </tr>\n",
       "  </thead>\n",
       "  <tbody>\n",
       "    <tr>\n",
       "      <th>a</th>\n",
       "      <td>NaN</td>\n",
       "      <td>8.133039</td>\n",
       "      <td>2.537718</td>\n",
       "      <td>6.214455</td>\n",
       "      <td>-0.776929</td>\n",
       "    </tr>\n",
       "    <tr>\n",
       "      <th>b</th>\n",
       "      <td>NaN</td>\n",
       "      <td>NaN</td>\n",
       "      <td>-5.595321</td>\n",
       "      <td>-1.918584</td>\n",
       "      <td>-8.909968</td>\n",
       "    </tr>\n",
       "    <tr>\n",
       "      <th>c</th>\n",
       "      <td>NaN</td>\n",
       "      <td>NaN</td>\n",
       "      <td>NaN</td>\n",
       "      <td>3.676737</td>\n",
       "      <td>-3.314647</td>\n",
       "    </tr>\n",
       "    <tr>\n",
       "      <th>d</th>\n",
       "      <td>NaN</td>\n",
       "      <td>NaN</td>\n",
       "      <td>NaN</td>\n",
       "      <td>NaN</td>\n",
       "      <td>-6.991384</td>\n",
       "    </tr>\n",
       "    <tr>\n",
       "      <th>e</th>\n",
       "      <td>NaN</td>\n",
       "      <td>NaN</td>\n",
       "      <td>NaN</td>\n",
       "      <td>NaN</td>\n",
       "      <td>NaN</td>\n",
       "    </tr>\n",
       "  </tbody>\n",
       "</table>\n",
       "</div>"
      ],
      "text/plain": [
       "    a         b         c         d         e\n",
       "a NaN  8.133039  2.537718  6.214455 -0.776929\n",
       "b NaN       NaN -5.595321 -1.918584 -8.909968\n",
       "c NaN       NaN       NaN  3.676737 -3.314647\n",
       "d NaN       NaN       NaN       NaN -6.991384\n",
       "e NaN       NaN       NaN       NaN       NaN"
      ]
     },
     "execution_count": 24,
     "metadata": {},
     "output_type": "execute_result"
    }
   ],
   "source": [
    "std"
   ]
  },
  {
   "cell_type": "code",
   "execution_count": 25,
   "id": "suburban-drawing",
   "metadata": {},
   "outputs": [
    {
     "data": {
      "text/html": [
       "<div>\n",
       "<style scoped>\n",
       "    .dataframe tbody tr th:only-of-type {\n",
       "        vertical-align: middle;\n",
       "    }\n",
       "\n",
       "    .dataframe tbody tr th {\n",
       "        vertical-align: top;\n",
       "    }\n",
       "\n",
       "    .dataframe thead th {\n",
       "        text-align: right;\n",
       "    }\n",
       "</style>\n",
       "<table border=\"1\" class=\"dataframe\">\n",
       "  <thead>\n",
       "    <tr style=\"text-align: right;\">\n",
       "      <th></th>\n",
       "      <th>a</th>\n",
       "      <th>b</th>\n",
       "      <th>c</th>\n",
       "      <th>d</th>\n",
       "      <th>e</th>\n",
       "    </tr>\n",
       "  </thead>\n",
       "  <tbody>\n",
       "    <tr>\n",
       "      <th>a</th>\n",
       "      <td>NaN</td>\n",
       "      <td>1.0</td>\n",
       "      <td>1.0</td>\n",
       "      <td>1.0</td>\n",
       "      <td>-1.0</td>\n",
       "    </tr>\n",
       "    <tr>\n",
       "      <th>b</th>\n",
       "      <td>NaN</td>\n",
       "      <td>NaN</td>\n",
       "      <td>-1.0</td>\n",
       "      <td>-1.0</td>\n",
       "      <td>-1.0</td>\n",
       "    </tr>\n",
       "    <tr>\n",
       "      <th>c</th>\n",
       "      <td>NaN</td>\n",
       "      <td>NaN</td>\n",
       "      <td>NaN</td>\n",
       "      <td>1.0</td>\n",
       "      <td>-1.0</td>\n",
       "    </tr>\n",
       "    <tr>\n",
       "      <th>d</th>\n",
       "      <td>NaN</td>\n",
       "      <td>NaN</td>\n",
       "      <td>NaN</td>\n",
       "      <td>NaN</td>\n",
       "      <td>-1.0</td>\n",
       "    </tr>\n",
       "    <tr>\n",
       "      <th>e</th>\n",
       "      <td>NaN</td>\n",
       "      <td>NaN</td>\n",
       "      <td>NaN</td>\n",
       "      <td>NaN</td>\n",
       "      <td>NaN</td>\n",
       "    </tr>\n",
       "  </tbody>\n",
       "</table>\n",
       "</div>"
      ],
      "text/plain": [
       "    a    b    c    d    e\n",
       "a NaN  1.0  1.0  1.0 -1.0\n",
       "b NaN  NaN -1.0 -1.0 -1.0\n",
       "c NaN  NaN  NaN  1.0 -1.0\n",
       "d NaN  NaN  NaN  NaN -1.0\n",
       "e NaN  NaN  NaN  NaN  NaN"
      ]
     },
     "execution_count": 25,
     "metadata": {},
     "output_type": "execute_result"
    }
   ],
   "source": [
    "std_mask"
   ]
  },
  {
   "cell_type": "code",
   "execution_count": 27,
   "id": "convinced-senegal",
   "metadata": {},
   "outputs": [
    {
     "data": {
      "text/html": [
       "<div>\n",
       "<style scoped>\n",
       "    .dataframe tbody tr th:only-of-type {\n",
       "        vertical-align: middle;\n",
       "    }\n",
       "\n",
       "    .dataframe tbody tr th {\n",
       "        vertical-align: top;\n",
       "    }\n",
       "\n",
       "    .dataframe thead th {\n",
       "        text-align: right;\n",
       "    }\n",
       "</style>\n",
       "<table border=\"1\" class=\"dataframe\">\n",
       "  <thead>\n",
       "    <tr style=\"text-align: right;\">\n",
       "      <th></th>\n",
       "      <th>a</th>\n",
       "      <th>b</th>\n",
       "      <th>c</th>\n",
       "      <th>d</th>\n",
       "      <th>e</th>\n",
       "    </tr>\n",
       "  </thead>\n",
       "  <tbody>\n",
       "    <tr>\n",
       "      <th>a</th>\n",
       "      <td>NaN</td>\n",
       "      <td>0.0</td>\n",
       "      <td>0.0</td>\n",
       "      <td>0.0</td>\n",
       "      <td>0.0</td>\n",
       "    </tr>\n",
       "    <tr>\n",
       "      <th>b</th>\n",
       "      <td>NaN</td>\n",
       "      <td>NaN</td>\n",
       "      <td>0.0</td>\n",
       "      <td>0.0</td>\n",
       "      <td>0.0</td>\n",
       "    </tr>\n",
       "    <tr>\n",
       "      <th>c</th>\n",
       "      <td>NaN</td>\n",
       "      <td>NaN</td>\n",
       "      <td>NaN</td>\n",
       "      <td>0.0</td>\n",
       "      <td>0.0</td>\n",
       "    </tr>\n",
       "    <tr>\n",
       "      <th>d</th>\n",
       "      <td>NaN</td>\n",
       "      <td>NaN</td>\n",
       "      <td>NaN</td>\n",
       "      <td>NaN</td>\n",
       "      <td>0.0</td>\n",
       "    </tr>\n",
       "    <tr>\n",
       "      <th>e</th>\n",
       "      <td>NaN</td>\n",
       "      <td>NaN</td>\n",
       "      <td>NaN</td>\n",
       "      <td>NaN</td>\n",
       "      <td>NaN</td>\n",
       "    </tr>\n",
       "  </tbody>\n",
       "</table>\n",
       "</div>"
      ],
      "text/plain": [
       "    a    b    c    d    e\n",
       "a NaN  0.0  0.0  0.0  0.0\n",
       "b NaN  NaN  0.0  0.0  0.0\n",
       "c NaN  NaN  NaN  0.0  0.0\n",
       "d NaN  NaN  NaN  NaN  0.0\n",
       "e NaN  NaN  NaN  NaN  NaN"
      ]
     },
     "execution_count": 27,
     "metadata": {},
     "output_type": "execute_result"
    }
   ],
   "source": [
    "missing"
   ]
  },
  {
   "cell_type": "code",
   "execution_count": 26,
   "id": "surrounded-fruit",
   "metadata": {},
   "outputs": [
    {
     "data": {
      "text/html": [
       "<div>\n",
       "<style scoped>\n",
       "    .dataframe tbody tr th:only-of-type {\n",
       "        vertical-align: middle;\n",
       "    }\n",
       "\n",
       "    .dataframe tbody tr th {\n",
       "        vertical-align: top;\n",
       "    }\n",
       "\n",
       "    .dataframe thead th {\n",
       "        text-align: right;\n",
       "    }\n",
       "</style>\n",
       "<table border=\"1\" class=\"dataframe\">\n",
       "  <thead>\n",
       "    <tr style=\"text-align: right;\">\n",
       "      <th></th>\n",
       "      <th>a</th>\n",
       "      <th>b</th>\n",
       "      <th>c</th>\n",
       "      <th>d</th>\n",
       "      <th>e</th>\n",
       "    </tr>\n",
       "  </thead>\n",
       "  <tbody>\n",
       "    <tr>\n",
       "      <th>a</th>\n",
       "      <td>NaN</td>\n",
       "      <td>-1.0</td>\n",
       "      <td>-1.0</td>\n",
       "      <td>-1.0</td>\n",
       "      <td>-1.0</td>\n",
       "    </tr>\n",
       "    <tr>\n",
       "      <th>b</th>\n",
       "      <td>NaN</td>\n",
       "      <td>NaN</td>\n",
       "      <td>-1.0</td>\n",
       "      <td>-1.0</td>\n",
       "      <td>-1.0</td>\n",
       "    </tr>\n",
       "    <tr>\n",
       "      <th>c</th>\n",
       "      <td>NaN</td>\n",
       "      <td>NaN</td>\n",
       "      <td>NaN</td>\n",
       "      <td>-1.0</td>\n",
       "      <td>-1.0</td>\n",
       "    </tr>\n",
       "    <tr>\n",
       "      <th>d</th>\n",
       "      <td>NaN</td>\n",
       "      <td>NaN</td>\n",
       "      <td>NaN</td>\n",
       "      <td>NaN</td>\n",
       "      <td>-1.0</td>\n",
       "    </tr>\n",
       "    <tr>\n",
       "      <th>e</th>\n",
       "      <td>NaN</td>\n",
       "      <td>NaN</td>\n",
       "      <td>NaN</td>\n",
       "      <td>NaN</td>\n",
       "      <td>NaN</td>\n",
       "    </tr>\n",
       "  </tbody>\n",
       "</table>\n",
       "</div>"
      ],
      "text/plain": [
       "    a    b    c    d    e\n",
       "a NaN -1.0 -1.0 -1.0 -1.0\n",
       "b NaN  NaN -1.0 -1.0 -1.0\n",
       "c NaN  NaN  NaN -1.0 -1.0\n",
       "d NaN  NaN  NaN  NaN -1.0\n",
       "e NaN  NaN  NaN  NaN  NaN"
      ]
     },
     "execution_count": 26,
     "metadata": {},
     "output_type": "execute_result"
    }
   ],
   "source": [
    "missing_mask"
   ]
  },
  {
   "cell_type": "markdown",
   "id": "lovely-haven",
   "metadata": {},
   "source": [
    "#### 3.1 Smart feature selection based on `correlation` and `std`\n",
    "When two feature are correlated, drop the one with lower standard deviation."
   ]
  },
  {
   "cell_type": "code",
   "execution_count": 16,
   "id": "fifty-capitol",
   "metadata": {},
   "outputs": [],
   "source": [
    "feats_to_keep, feats_to_drop = make_selection(corr_mask=corr_mask, matrix_mask=std_mask, corr_thresh=0.8)"
   ]
  },
  {
   "cell_type": "code",
   "execution_count": 17,
   "id": "august-nickname",
   "metadata": {},
   "outputs": [
    {
     "data": {
      "text/plain": [
       "(['b', 'c', 'd'], ['e', 'a'])"
      ]
     },
     "execution_count": 17,
     "metadata": {},
     "output_type": "execute_result"
    }
   ],
   "source": [
    "feats_to_keep, feats_to_drop"
   ]
  },
  {
   "cell_type": "markdown",
   "id": "elegant-pickup",
   "metadata": {},
   "source": [
    "Check if we still have correlated features dataframe:"
   ]
  },
  {
   "cell_type": "code",
   "execution_count": 18,
   "id": "eligible-leeds",
   "metadata": {},
   "outputs": [],
   "source": [
    "assert data[data[feats_to_keep].corr().abs() > 0.8].sum().sum() == 0.0, \"There are still correlated features\""
   ]
  },
  {
   "cell_type": "markdown",
   "id": "authentic-cookie",
   "metadata": {},
   "source": [
    "#### 3.2 Smart feature selection based on `correlation` and `missings`\n",
    "When two feature are correlated, drop the one with less missing values."
   ]
  },
  {
   "cell_type": "code",
   "execution_count": 19,
   "id": "colonial-battery",
   "metadata": {},
   "outputs": [],
   "source": [
    "feats_to_keep, feats_to_drop = make_selection(corr_mask=corr_mask, matrix_mask=missing_mask, corr_thresh=0.8)"
   ]
  },
  {
   "cell_type": "code",
   "execution_count": 20,
   "id": "equal-concentrate",
   "metadata": {},
   "outputs": [
    {
     "data": {
      "text/plain": [
       "(['a', 'c', 'd'], ['b', 'e'])"
      ]
     },
     "execution_count": 20,
     "metadata": {},
     "output_type": "execute_result"
    }
   ],
   "source": [
    "feats_to_keep, feats_to_drop"
   ]
  },
  {
   "cell_type": "markdown",
   "id": "composed-threat",
   "metadata": {},
   "source": [
    "Check if we still have correlated features in the dataframe"
   ]
  },
  {
   "cell_type": "code",
   "execution_count": 21,
   "id": "racial-south",
   "metadata": {},
   "outputs": [],
   "source": [
    "assert data[data[feats_to_keep].corr().abs() > 0.8].sum().sum() == 0.0, \"There are still correlated features\""
   ]
  },
  {
   "cell_type": "code",
   "execution_count": null,
   "id": "labeled-ecology",
   "metadata": {},
   "outputs": [],
   "source": []
  }
 ],
 "metadata": {
  "jupytext": {
   "formats": "ipynb,py:light",
   "text_representation": {
    "extension": ".py",
    "format_name": "light",
    "format_version": "1.5",
    "jupytext_version": "1.11.2"
   }
  },
  "kernelspec": {
   "display_name": "Python 3",
   "language": "python",
   "name": "python3"
  },
  "language_info": {
   "codemirror_mode": {
    "name": "ipython",
    "version": 3
   },
   "file_extension": ".py",
   "mimetype": "text/x-python",
   "name": "python",
   "nbconvert_exporter": "python",
   "pygments_lexer": "ipython3",
   "version": "3.8.5"
  }
 },
 "nbformat": 4,
 "nbformat_minor": 5
}
